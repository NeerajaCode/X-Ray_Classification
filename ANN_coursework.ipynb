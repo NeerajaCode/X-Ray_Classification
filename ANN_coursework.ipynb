{
 "cells": [
  {
   "cell_type": "code",
   "execution_count": 12,
   "metadata": {},
   "outputs": [],
   "source": [
    "import numpy as np\n",
    "import pandas as pd\n",
    "import keras\n",
    "from keras.layers import *\n",
    "from keras.models import *\n",
    "from keras.preprocessing import image\n",
    "from keras.optimizers import SGD\n",
    "from keras.layers import LeakyReLU\n",
    "import matplotlib.pyplot as plt\n",
    "from sklearn.model_selection import train_test_split\n",
    "from sklearn import metrics\n",
    "from sklearn.metrics import classification_report, confusion_matrix\n",
    "import tensorflow\n",
    "from tensorflow.keras import Sequential\n",
    "from tensorflow.keras.layers import Conv2D, Flatten, Dense, MaxPool2D, BatchNormalization, Dropout\n",
    "from tensorflow.keras.optimizers import Adam"
   ]
  },
  {
   "cell_type": "code",
   "execution_count": 13,
   "metadata": {},
   "outputs": [],
   "source": [
    "train_path=r\"C:\\Users\\kunap\\Desktop\\ANN_Coursework\\X-rays\\train\"\n",
    "valid_path=r\"C:\\Users\\kunap\\Desktop\\ANN_Coursework\\X-rays\\val\"\n",
    "test_path=r\"C:\\Users\\kunap\\Desktop\\ANN_Coursework\\X-rays\\test\""
   ]
  },
  {
   "cell_type": "markdown",
   "metadata": {},
   "source": [
    "# CNN Model"
   ]
  },
  {
   "cell_type": "code",
   "execution_count": 3,
   "metadata": {},
   "outputs": [
    {
     "name": "stdout",
     "output_type": "stream",
     "text": [
      "Model: \"sequential\"\n",
      "_________________________________________________________________\n",
      "Layer (type)                 Output Shape              Param #   \n",
      "=================================================================\n",
      "conv2d (Conv2D)              (None, 148, 148, 32)      896       \n",
      "_________________________________________________________________\n",
      "max_pooling2d (MaxPooling2D) (None, 74, 74, 32)        0         \n",
      "_________________________________________________________________\n",
      "conv2d_1 (Conv2D)            (None, 72, 72, 32)        9248      \n",
      "_________________________________________________________________\n",
      "max_pooling2d_1 (MaxPooling2 (None, 36, 36, 32)        0         \n",
      "_________________________________________________________________\n",
      "conv2d_2 (Conv2D)            (None, 34, 34, 32)        9248      \n",
      "_________________________________________________________________\n",
      "max_pooling2d_2 (MaxPooling2 (None, 17, 17, 32)        0         \n",
      "_________________________________________________________________\n",
      "conv2d_3 (Conv2D)            (None, 15, 15, 64)        18496     \n",
      "_________________________________________________________________\n",
      "max_pooling2d_3 (MaxPooling2 (None, 7, 7, 64)          0         \n",
      "_________________________________________________________________\n",
      "conv2d_4 (Conv2D)            (None, 5, 5, 64)          36928     \n",
      "_________________________________________________________________\n",
      "max_pooling2d_4 (MaxPooling2 (None, 2, 2, 64)          0         \n",
      "_________________________________________________________________\n",
      "flatten (Flatten)            (None, 256)               0         \n",
      "_________________________________________________________________\n",
      "dense (Dense)                (None, 128)               32896     \n",
      "_________________________________________________________________\n",
      "dense_1 (Dense)              (None, 64)                8256      \n",
      "_________________________________________________________________\n",
      "dense_2 (Dense)              (None, 3)                 195       \n",
      "=================================================================\n",
      "Total params: 116,163\n",
      "Trainable params: 116,163\n",
      "Non-trainable params: 0\n",
      "_________________________________________________________________\n"
     ]
    }
   ],
   "source": [
    "img_height = 150\n",
    "img_width = 150\n",
    "batch_size = 16 \n",
    "\n",
    "\n",
    "model = Sequential()\n",
    "model.add(Conv2D(32, (3, 3), activation=\"relu\", input_shape=(img_width, img_height, 3)))\n",
    "model.add(MaxPool2D(pool_size = (2, 2)))\n",
    "model.add(Conv2D(32, (3, 3), activation=\"relu\", input_shape=(img_width, img_height, 3)))\n",
    "model.add(MaxPool2D(pool_size = (2, 2)))\n",
    "model.add(Conv2D(32, (3, 3), activation=\"relu\", input_shape=(img_width, img_height, 3)))\n",
    "model.add(MaxPool2D(pool_size = (2, 2)))\n",
    "model.add(Conv2D(64, (3, 3), activation=\"relu\", input_shape=(img_width, img_height, 3)))\n",
    "model.add(MaxPool2D(pool_size = (2, 2)))\n",
    "model.add(Conv2D(64, (3, 3), activation=\"relu\", input_shape=(img_width, img_height, 3)))\n",
    "model.add(MaxPool2D(pool_size = (2, 2)))\n",
    "model.add(Flatten())\n",
    "model.add(Dense(activation = 'relu', units = 128))\n",
    "model.add(Dense(activation = 'relu', units = 64))\n",
    "\n",
    "model.add(Dense(units = 3 , activation = 'softmax'))\n",
    "model.compile(optimizer = \"Adam\" , loss = 'categorical_crossentropy' , metrics = ['accuracy'])\n",
    "model.summary()"
   ]
  },
  {
   "cell_type": "markdown",
   "metadata": {},
   "source": [
    "# Applying VGG19"
   ]
  },
  {
   "cell_type": "code",
   "execution_count": 9,
   "metadata": {},
   "outputs": [],
   "source": [
    "def vgg19_model(train,valid, epochs_count, image_size):\n",
    "    start_time = time.time()\n",
    "    vgg19_weights = VGG19(weights='imagenet',include_top=False,input_shape=(image_size,image_size,3))\n",
    "    for layers in vgg19_weights.layers:\n",
    "        layers.trainable = False\n",
    "    model_vgg19 = Sequential()\n",
    "    model_vgg19.add(vgg19_weights)\n",
    "    model_vgg19.add(Flatten())\n",
    "    model_vgg19.add(Dense(3,activation='softmax'))\n",
    "    model_vgg19.summary()\n",
    "    model_vgg19.compile(optimizer=Adam(learning_rate=0.001), loss='categorical_crossentropy', metrics=['accuracy'])\n",
    "    history = model_vgg19.fit(x=train, validation_data = valid,validation_steps=len(valid)//32,steps_per_epoch=len(train)//32,epochs=epochs_count)\n",
    "    exe = (time.time() - start_time)\n",
    "    print(\"Execution time\", exe)\n",
    "    return history, model_vgg19"
   ]
  },
  {
   "cell_type": "code",
   "execution_count": 16,
   "metadata": {
    "collapsed": true
   },
   "outputs": [
    {
     "name": "stdout",
     "output_type": "stream",
     "text": [
      "Found 760 images belonging to 3 classes.\n",
      "Found 95 images belonging to 3 classes.\n",
      "Found 95 images belonging to 3 classes.\n"
     ]
    }
   ],
   "source": [
    "# import tensorflow as tf\n",
    "# train_generator=image.ImageDataGenerator(preprocessing_function=tf.keras.applications.inception_v3.preprocess_input)  \\\n",
    "# .flow_from_directory(directory=train_path, target_size=(150,150),classes=[\"Covid-19\",\"No_findings\",\"Pneumonia\"],batch_size=10)\n",
    "\n",
    "# valid_generator=image.ImageDataGenerator(preprocessing_function=tf.keras.applications.inception_v3.preprocess_input)  \\\n",
    "# .flow_from_directory(directory=valid_path, target_size=(150,150),classes=[\"Covid-19\",\"No_findings\",\"Pneumonia\"],batch_size=10)\n",
    "\n",
    "# test_generator=image.ImageDataGenerator(preprocessing_function=tf.keras.applications.inception_v3.preprocess_input)  \\\n",
    "# .flow_from_directory(directory=test_path, target_size=(150,150),classes=[\"Covid-19\",\"No_findings\",\"Pneumonia\"],batch_size=10)"
   ]
  },
  {
   "cell_type": "code",
   "execution_count": 14,
   "metadata": {},
   "outputs": [],
   "source": [
    "# Image Augmentation\n",
    "\n",
    "train_datagen = image.ImageDataGenerator(\n",
    "                                rescale=1./255,\n",
    "                                shear_range=0.2,\n",
    "                                zoom_range=0.2,\n",
    "                                horizontal_flip=True)\n",
    "valid_datagen = image.ImageDataGenerator(rescale=1./255)\n",
    "\n",
    "test_datagen = image.ImageDataGenerator(rescale=1./255)"
   ]
  },
  {
   "cell_type": "code",
   "execution_count": 15,
   "metadata": {},
   "outputs": [
    {
     "name": "stdout",
     "output_type": "stream",
     "text": [
      "Found 760 images belonging to 3 classes.\n",
      "Found 95 images belonging to 3 classes.\n",
      "Found 95 images belonging to 3 classes.\n"
     ]
    }
   ],
   "source": [
    "# Generating the batches of Augmented Data\n",
    "\n",
    "train_generator = train_datagen.flow_from_directory(train_path,target_size=(150,150),\n",
    "                                                   batch_size=32,\n",
    "                                                   class_mode='categorical',classes=['Covid-19', 'No_findings', 'Pneumonia'])\n",
    "\n",
    "valid_generator = valid_datagen.flow_from_directory(valid_path,target_size=(150,150),\n",
    "                                                   batch_size=32,\n",
    "                                                   class_mode='categorical', classes=['Covid-19', 'No_findings', 'Pneumonia'], shuffle=False)\n",
    "\n",
    "test_generator = test_datagen.flow_from_directory(test_path,target_size=(150,150),\n",
    "                                                   batch_size=32,\n",
    "                                                   class_mode='categorical',shuffle=False)\n"
   ]
  },
  {
   "cell_type": "code",
   "execution_count": 16,
   "metadata": {},
   "outputs": [
    {
     "data": {
      "text/plain": [
       "{'Covid-19': 0, 'No_findings': 1, 'Pneumonia': 2}"
      ]
     },
     "execution_count": 16,
     "metadata": {},
     "output_type": "execute_result"
    }
   ],
   "source": [
    "train_generator.class_indices"
   ]
  },
  {
   "cell_type": "code",
   "execution_count": 5,
   "metadata": {
    "collapsed": true
   },
   "outputs": [
    {
     "ename": "NameError",
     "evalue": "name 'model' is not defined",
     "output_type": "error",
     "traceback": [
      "\u001b[1;31m---------------------------------------------------------------------------\u001b[0m",
      "\u001b[1;31mNameError\u001b[0m                                 Traceback (most recent call last)",
      "\u001b[1;32m<ipython-input-5-e4645a2044d4>\u001b[0m in \u001b[0;36m<module>\u001b[1;34m\u001b[0m\n\u001b[0;32m      4\u001b[0m \u001b[0mbest\u001b[0m \u001b[1;33m=\u001b[0m \u001b[0mtf\u001b[0m\u001b[1;33m.\u001b[0m\u001b[0mkeras\u001b[0m\u001b[1;33m.\u001b[0m\u001b[0mcallbacks\u001b[0m\u001b[1;33m.\u001b[0m\u001b[0mEarlyStopping\u001b[0m\u001b[1;33m(\u001b[0m\u001b[0mmonitor\u001b[0m\u001b[1;33m=\u001b[0m\u001b[1;34m'loss'\u001b[0m\u001b[1;33m,\u001b[0m \u001b[0mmode\u001b[0m\u001b[1;33m=\u001b[0m\u001b[1;34m'min'\u001b[0m\u001b[1;33m,\u001b[0m\u001b[0mpatience\u001b[0m\u001b[1;33m=\u001b[0m\u001b[1;36m3\u001b[0m\u001b[1;33m)\u001b[0m\u001b[1;33m\u001b[0m\u001b[1;33m\u001b[0m\u001b[0m\n\u001b[0;32m      5\u001b[0m \u001b[0mstart_time\u001b[0m \u001b[1;33m=\u001b[0m \u001b[0mtime\u001b[0m\u001b[1;33m.\u001b[0m\u001b[0mtime\u001b[0m\u001b[1;33m(\u001b[0m\u001b[1;33m)\u001b[0m\u001b[1;33m\u001b[0m\u001b[1;33m\u001b[0m\u001b[0m\n\u001b[1;32m----> 6\u001b[1;33m hist = model.fit_generator(\n\u001b[0m\u001b[0;32m      7\u001b[0m                 \u001b[0mtrain_generator\u001b[0m\u001b[1;33m,\u001b[0m\u001b[1;33m\u001b[0m\u001b[1;33m\u001b[0m\u001b[0m\n\u001b[0;32m      8\u001b[0m                 \u001b[0msteps_per_epoch\u001b[0m\u001b[1;33m=\u001b[0m\u001b[1;36m8\u001b[0m\u001b[1;33m,\u001b[0m\u001b[1;33m\u001b[0m\u001b[1;33m\u001b[0m\u001b[0m\n",
      "\u001b[1;31mNameError\u001b[0m: name 'model' is not defined"
     ]
    }
   ],
   "source": [
    "import tensorflow as tf\n",
    "from tensorflow.keras import callbacks\n",
    "import time\n",
    "best = tf.keras.callbacks.EarlyStopping(monitor='loss', mode='min',patience=3)\n",
    "start_time = time.time()\n",
    "hist = model.fit_generator(\n",
    "                train_generator,\n",
    "                steps_per_epoch=8,\n",
    "                epochs=20,\n",
    "                callbacks=[best],\n",
    "                validation_data=valid_generator,\n",
    "                validation_steps=2)\n",
    "exe = (time.time() - start_time)\n",
    "print(\"Execution time\", exe)"
   ]
  },
  {
   "cell_type": "code",
   "execution_count": 10,
   "metadata": {
    "collapsed": true
   },
   "outputs": [
    {
     "name": "stdout",
     "output_type": "stream",
     "text": [
      "Model: \"sequential_1\"\n",
      "_________________________________________________________________\n",
      "Layer (type)                 Output Shape              Param #   \n",
      "=================================================================\n",
      "vgg19 (Model)                (None, 4, 4, 512)         20024384  \n",
      "_________________________________________________________________\n",
      "flatten_1 (Flatten)          (None, 8192)              0         \n",
      "_________________________________________________________________\n",
      "dense_1 (Dense)              (None, 3)                 24579     \n",
      "=================================================================\n",
      "Total params: 20,048,963\n",
      "Trainable params: 24,579\n",
      "Non-trainable params: 20,024,384\n",
      "_________________________________________________________________\n",
      "Train for 24 steps, validate for 3 steps\n",
      "Epoch 1/15\n",
      "24/24 [==============================] - 131s 5s/step - loss: 1.0467 - accuracy: 0.4645 - val_loss: 0.8695 - val_accuracy: 0.4842\n",
      "Epoch 2/15\n",
      "24/24 [==============================] - 137s 6s/step - loss: 0.7581 - accuracy: 0.6474 - val_loss: 0.6239 - val_accuracy: 0.7579\n",
      "Epoch 3/15\n",
      "24/24 [==============================] - 139s 6s/step - loss: 0.6782 - accuracy: 0.7026 - val_loss: 0.6233 - val_accuracy: 0.7263\n",
      "Epoch 4/15\n",
      "24/24 [==============================] - 140s 6s/step - loss: 0.6310 - accuracy: 0.7118 - val_loss: 0.5720 - val_accuracy: 0.7263\n",
      "Epoch 5/15\n",
      "24/24 [==============================] - 137s 6s/step - loss: 0.5782 - accuracy: 0.7447 - val_loss: 0.5287 - val_accuracy: 0.7789\n",
      "Epoch 6/15\n",
      "24/24 [==============================] - 141s 6s/step - loss: 0.5398 - accuracy: 0.7987 - val_loss: 0.4892 - val_accuracy: 0.7684\n",
      "Epoch 7/15\n",
      "24/24 [==============================] - 140s 6s/step - loss: 0.5334 - accuracy: 0.7895 - val_loss: 0.6050 - val_accuracy: 0.7263\n",
      "Epoch 8/15\n",
      "24/24 [==============================] - 142s 6s/step - loss: 0.4877 - accuracy: 0.7974 - val_loss: 0.5101 - val_accuracy: 0.7684\n",
      "Epoch 9/15\n",
      "24/24 [==============================] - 142s 6s/step - loss: 0.4911 - accuracy: 0.7908 - val_loss: 0.4998 - val_accuracy: 0.7579\n",
      "Epoch 10/15\n",
      "24/24 [==============================] - 663s 28s/step - loss: 0.4976 - accuracy: 0.7895 - val_loss: 0.5977 - val_accuracy: 0.7263\n",
      "Epoch 11/15\n",
      "24/24 [==============================] - 134s 6s/step - loss: 0.4816 - accuracy: 0.8026 - val_loss: 0.4902 - val_accuracy: 0.7895\n",
      "Epoch 12/15\n",
      "24/24 [==============================] - 143s 6s/step - loss: 0.4431 - accuracy: 0.8289 - val_loss: 0.5007 - val_accuracy: 0.7684\n",
      "Epoch 13/15\n",
      "24/24 [==============================] - 142s 6s/step - loss: 0.4100 - accuracy: 0.8408 - val_loss: 0.4786 - val_accuracy: 0.7789\n",
      "Epoch 14/15\n",
      "24/24 [==============================] - 141s 6s/step - loss: 0.4055 - accuracy: 0.8408 - val_loss: 0.5178 - val_accuracy: 0.7474\n",
      "Epoch 15/15\n",
      "24/24 [==============================] - 143s 6s/step - loss: 0.3908 - accuracy: 0.8553 - val_loss: 0.4778 - val_accuracy: 0.7579\n",
      "Execution time 2628.597566127777\n"
     ]
    }
   ],
   "source": [
    "import time\n",
    "from tensorflow.keras.applications import  VGG19\n",
    "hist,model = vgg19_model(train_generator,valid_generator,15,150)"
   ]
  },
  {
   "cell_type": "code",
   "execution_count": 17,
   "metadata": {},
   "outputs": [],
   "source": [
    "import glob\n",
    "import cv2\n",
    "import os\n",
    "SIZE = 150\n",
    "train_images = []\n",
    "train_labels = []\n",
    "for directory_path in glob.glob(r\"C:\\Users\\kunap\\Desktop\\ANN_Coursework\\X-rays\\train\\*\"):\n",
    "    label = directory_path.split('\\\\')[-1]\n",
    "    for img_path in glob.glob(os.path.join(directory_path,'*.jpg')):\n",
    "        img = cv2.imread(img_path,cv2.IMREAD_COLOR)\n",
    "        img = cv2.resize(img, (SIZE, SIZE))\n",
    "        img = cv2.cvtColor(img, cv2.COLOR_RGB2BGR)\n",
    "        train_images.append(img)\n",
    "        train_labels.append(label)\n",
    "    \n",
    "train_images = np.array(train_images)\n",
    "train_labels = np.array(train_labels)\n"
   ]
  },
  {
   "cell_type": "code",
   "execution_count": 18,
   "metadata": {
    "scrolled": true
   },
   "outputs": [],
   "source": [
    "val_images = []\n",
    "val_labels = []\n",
    "for directory_path in glob.glob(r\"C:\\Users\\kunap\\Desktop\\ANN_Coursework\\X-rays\\val\\*\"):\n",
    "    label = directory_path.split('\\\\')[-1]\n",
    "    for img_path in glob.glob(os.path.join(directory_path,'*.jpg')):\n",
    "        img = cv2.imread(img_path,cv2.IMREAD_COLOR)\n",
    "        img = cv2.resize(img, (SIZE, SIZE))\n",
    "        img = cv2.cvtColor(img, cv2.COLOR_RGB2BGR)\n",
    "        val_images.append(img)\n",
    "        val_labels.append(label)\n",
    "    \n",
    "val_images = np.array(val_images)\n",
    "val_labels = np.array(val_labels)\n",
    "    "
   ]
  },
  {
   "cell_type": "code",
   "execution_count": 19,
   "metadata": {},
   "outputs": [],
   "source": [
    "test_images = []\n",
    "test_labels = []\n",
    "for directory_path in glob.glob(r\"C:\\Users\\kunap\\Desktop\\ANN_Coursework\\X-rays\\test\\*\"):\n",
    "    label = directory_path.split('\\\\')[-1]\n",
    "    for img_path in glob.glob(os.path.join(directory_path,'*.jpg')):\n",
    "        img = cv2.imread(img_path,cv2.IMREAD_COLOR)\n",
    "        img = cv2.resize(img, (SIZE, SIZE))\n",
    "        img = cv2.cvtColor(img, cv2.COLOR_RGB2BGR)\n",
    "        test_images.append(img)\n",
    "        test_labels.append(label)\n",
    "    \n",
    "test_images = np.array(test_images)\n",
    "test_labels = np.array(test_labels)"
   ]
  },
  {
   "cell_type": "code",
   "execution_count": 22,
   "metadata": {},
   "outputs": [
    {
     "name": "stdout",
     "output_type": "stream",
     "text": [
      "Model: \"vgg19\"\n",
      "_________________________________________________________________\n",
      "Layer (type)                 Output Shape              Param #   \n",
      "=================================================================\n",
      "input_3 (InputLayer)         [(None, 150, 150, 3)]     0         \n",
      "_________________________________________________________________\n",
      "block1_conv1 (Conv2D)        (None, 150, 150, 64)      1792      \n",
      "_________________________________________________________________\n",
      "block1_conv2 (Conv2D)        (None, 150, 150, 64)      36928     \n",
      "_________________________________________________________________\n",
      "block1_pool (MaxPooling2D)   (None, 75, 75, 64)        0         \n",
      "_________________________________________________________________\n",
      "block2_conv1 (Conv2D)        (None, 75, 75, 128)       73856     \n",
      "_________________________________________________________________\n",
      "block2_conv2 (Conv2D)        (None, 75, 75, 128)       147584    \n",
      "_________________________________________________________________\n",
      "block2_pool (MaxPooling2D)   (None, 37, 37, 128)       0         \n",
      "_________________________________________________________________\n",
      "block3_conv1 (Conv2D)        (None, 37, 37, 256)       295168    \n",
      "_________________________________________________________________\n",
      "block3_conv2 (Conv2D)        (None, 37, 37, 256)       590080    \n",
      "_________________________________________________________________\n",
      "block3_conv3 (Conv2D)        (None, 37, 37, 256)       590080    \n",
      "_________________________________________________________________\n",
      "block3_conv4 (Conv2D)        (None, 37, 37, 256)       590080    \n",
      "_________________________________________________________________\n",
      "block3_pool (MaxPooling2D)   (None, 18, 18, 256)       0         \n",
      "_________________________________________________________________\n",
      "block4_conv1 (Conv2D)        (None, 18, 18, 512)       1180160   \n",
      "_________________________________________________________________\n",
      "block4_conv2 (Conv2D)        (None, 18, 18, 512)       2359808   \n",
      "_________________________________________________________________\n",
      "block4_conv3 (Conv2D)        (None, 18, 18, 512)       2359808   \n",
      "_________________________________________________________________\n",
      "block4_conv4 (Conv2D)        (None, 18, 18, 512)       2359808   \n",
      "_________________________________________________________________\n",
      "block4_pool (MaxPooling2D)   (None, 9, 9, 512)         0         \n",
      "_________________________________________________________________\n",
      "block5_conv1 (Conv2D)        (None, 9, 9, 512)         2359808   \n",
      "_________________________________________________________________\n",
      "block5_conv2 (Conv2D)        (None, 9, 9, 512)         2359808   \n",
      "_________________________________________________________________\n",
      "block5_conv3 (Conv2D)        (None, 9, 9, 512)         2359808   \n",
      "_________________________________________________________________\n",
      "block5_conv4 (Conv2D)        (None, 9, 9, 512)         2359808   \n",
      "_________________________________________________________________\n",
      "block5_pool (MaxPooling2D)   (None, 4, 4, 512)         0         \n",
      "=================================================================\n",
      "Total params: 20,024,384\n",
      "Trainable params: 0\n",
      "Non-trainable params: 20,024,384\n",
      "_________________________________________________________________\n"
     ]
    }
   ],
   "source": [
    "from sklearn import preprocessing\n",
    "from tensorflow.keras.applications import  VGG19\n",
    "image_size=150\n",
    "\n",
    "le = preprocessing.LabelEncoder()\n",
    "le.fit(test_labels)\n",
    "test_labels_encoded = le.transform(test_labels)\n",
    "le.fit(train_labels)\n",
    "train_labels_encoded = le.transform(train_labels)\n",
    "\n",
    "x_train, y_train, x_test, y_test = train_images, train_labels_encoded, test_images, test_labels_encoded\n",
    "\n",
    "x_train, x_test = x_train/255.0, x_test/255.0\n",
    "\n",
    "\n",
    "vgg19_model = VGG19(weights='imagenet',include_top=False,input_shape=(image_size,image_size,3))\n",
    "for layers in vgg19_model.layers:\n",
    "    layers.trainable = False\n",
    "\n",
    "vgg19_model.summary()\n",
    "feature_extractor=vgg19_model.predict(x_train)\n",
    "features = feature_extractor.reshape(feature_extractor.shape[0],-1)\n",
    "X_for_train = features\n"
   ]
  },
  {
   "cell_type": "code",
   "execution_count": 23,
   "metadata": {},
   "outputs": [
    {
     "name": "stdout",
     "output_type": "stream",
     "text": [
      "Execution time 16.5857253074646\n"
     ]
    }
   ],
   "source": [
    "import time\n",
    "start_time = time.time()\n",
    "# import xgboost as xgb\n",
    "from sklearn.ensemble import RandomForestClassifier\n",
    "model = RandomForestClassifier()\n",
    "# model = xgb.XGBClassifier()\n",
    "model.fit(X_for_train, y_train)\n",
    "\n",
    "X_test_feature = vgg19_model.predict(x_test)\n",
    "X_test_features = X_test_feature.reshape(X_test_feature.shape[0], -1)\n",
    "prediction = model.predict(X_test_features)\n",
    "prediction = le.inverse_transform(prediction)\n",
    "exe = (time.time() - start_time)\n",
    "print(\"Execution time\", exe)"
   ]
  },
  {
   "cell_type": "code",
   "execution_count": 11,
   "metadata": {},
   "outputs": [
    {
     "name": "stdout",
     "output_type": "stream",
     "text": [
      "              precision    recall  f1-score   support\n",
      "\n",
      "    Covid-19       1.00      1.00      1.00        25\n",
      " No_findings       0.80      0.91      0.85        35\n",
      "   Pneumonia       0.90      0.77      0.83        35\n",
      "\n",
      "    accuracy                           0.88        95\n",
      "   macro avg       0.90      0.90      0.89        95\n",
      "weighted avg       0.89      0.88      0.88        95\n",
      "\n"
     ]
    }
   ],
   "source": [
    "cr = classification_report(test_labels, prediction)\n",
    "print(cr)"
   ]
  },
  {
   "cell_type": "code",
   "execution_count": 17,
   "metadata": {},
   "outputs": [
    {
     "data": {
      "text/plain": [
       "<matplotlib.axes._subplots.AxesSubplot at 0x22b318f9388>"
      ]
     },
     "execution_count": 17,
     "metadata": {},
     "output_type": "execute_result"
    },
    {
     "data": {
      "image/png": "[encoded data removed]",
      "text/plain": [
       "<Figure size 432x288 with 2 Axes>"
      ]
     },
     "metadata": {
      "needs_background": "light"
     },
     "output_type": "display_data"
    }
   ],
   "source": [
    "import seaborn as sns\n",
    "cm=confusion_matrix(test_labels, prediction)\n",
    "sns.heatmap(cm,annot=True)"
   ]
  },
  {
   "cell_type": "code",
   "execution_count": 8,
   "metadata": {},
   "outputs": [],
   "source": [
    "predictions = model.predict(x=test_generator, verbose=0)"
   ]
  },
  {
   "cell_type": "code",
   "execution_count": 9,
   "metadata": {
    "scrolled": true
   },
   "outputs": [
    {
     "name": "stdout",
     "output_type": "stream",
     "text": [
      "              precision    recall  f1-score   support\n",
      "\n",
      "           0       0.82      0.72      0.77        25\n",
      "           1       0.66      0.89      0.76        35\n",
      "           2       0.69      0.51      0.59        35\n",
      "\n",
      "    accuracy                           0.71        95\n",
      "   macro avg       0.72      0.71      0.70        95\n",
      "weighted avg       0.71      0.71      0.70        95\n",
      "\n"
     ]
    }
   ],
   "source": [
    "\n",
    "cr = classification_report(y_true=test_generator.classes, y_pred=np.argmax(predictions, axis=1))\n",
    "print(cr)"
   ]
  },
  {
   "cell_type": "code",
   "execution_count": 12,
   "metadata": {},
   "outputs": [
    {
     "data": {
      "text/plain": [
       "<matplotlib.axes._subplots.AxesSubplot at 0x1bdcd816e08>"
      ]
     },
     "execution_count": 12,
     "metadata": {},
     "output_type": "execute_result"
    },
    {
     "data": {
      "image/png": "[encoded data removed]",
      "text/plain": [
       "<Figure size 432x288 with 2 Axes>"
      ]
     },
     "metadata": {
      "needs_background": "light"
     },
     "output_type": "display_data"
    }
   ],
   "source": [
    "import seaborn as sns\n",
    "cm = confusion_matrix(y_true=test_generator.classes, y_pred=np.argmax(predictions, axis=1))\n",
    "sns.heatmap(cm,annot=True)"
   ]
  },
  {
   "cell_type": "code",
   "execution_count": 10,
   "metadata": {},
   "outputs": [
    {
     "name": "stdout",
     "output_type": "stream",
     "text": [
      "dict_keys(['loss', 'accuracy', 'val_loss', 'val_accuracy'])\n"
     ]
    },
    {
     "data": {
      "image/png": "[encoded data removed]",
      "text/plain": [
       "<Figure size 432x288 with 1 Axes>"
      ]
     },
     "metadata": {
      "needs_background": "light"
     },
     "output_type": "display_data"
    }
   ],
   "source": [
    "\n",
    "print(hist.history.keys())\n",
    "# summarize history for accuracy\n",
    "plt.plot(hist.history['accuracy'])\n",
    "plt.plot(hist.history['val_accuracy'])\n",
    "plt.title('model accuracy')\n",
    "plt.ylabel('accuracy')\n",
    "plt.xlabel('epoch')\n",
    "plt.legend(['train', 'test'], loc='upper left')\n",
    "plt.show()"
   ]
  },
  {
   "cell_type": "code",
   "execution_count": 11,
   "metadata": {},
   "outputs": [
    {
     "name": "stdout",
     "output_type": "stream",
     "text": [
      "dict_keys(['loss', 'accuracy', 'val_loss', 'val_accuracy'])\n"
     ]
    },
    {
     "data": {
      "image/png": "[encoded data removed]",
      "text/plain": [
       "<Figure size 432x288 with 1 Axes>"
      ]
     },
     "metadata": {
      "needs_background": "light"
     },
     "output_type": "display_data"
    }
   ],
   "source": [
    "\n",
    "print(hist.history.keys())\n",
    "# summarize history for accuracy\n",
    "plt.plot(hist.history['loss'])\n",
    "plt.plot(hist.history['val_loss'])\n",
    "plt.title('model loss')\n",
    "plt.ylabel('loss')\n",
    "plt.xlabel('epoch')\n",
    "plt.legend(['train', 'test'], loc='upper left')\n",
    "plt.show()"
   ]
  },
  {
   "cell_type": "code",
   "execution_count": 57,
   "metadata": {},
   "outputs": [
    {
     "name": "stdout",
     "output_type": "stream",
     "text": [
      "C:\\Users\\kunap\\Desktop\\ANN_Coursework\\X-rays\\train\n"
     ]
    },
    {
     "data": {
      "text/plain": [
       "'train'"
      ]
     },
     "execution_count": 57,
     "metadata": {},
     "output_type": "execute_result"
    }
   ],
   "source": [
    "print(train_path)\n",
    "train_path.split(\"\\\\\")[-1]"
   ]
  },
  {
   "cell_type": "code",
   "execution_count": 19,
   "metadata": {},
   "outputs": [
    {
     "ename": "TypeError",
     "evalue": "__call__() missing 1 required positional argument: 'inputs'",
     "output_type": "error",
     "traceback": [
      "\u001b[1;31m---------------------------------------------------------------------------\u001b[0m",
      "\u001b[1;31mTypeError\u001b[0m                                 Traceback (most recent call last)",
      "\u001b[1;32m<ipython-input-19-04766142c379>\u001b[0m in \u001b[0;36m<module>\u001b[1;34m\u001b[0m\n\u001b[0;32m      2\u001b[0m \u001b[0mstart_time\u001b[0m \u001b[1;33m=\u001b[0m \u001b[0mtime\u001b[0m\u001b[1;33m.\u001b[0m\u001b[0mtime\u001b[0m\u001b[1;33m(\u001b[0m\u001b[1;33m)\u001b[0m\u001b[1;33m\u001b[0m\u001b[1;33m\u001b[0m\u001b[0m\n\u001b[0;32m      3\u001b[0m \u001b[0mimage_size\u001b[0m \u001b[1;33m=\u001b[0m \u001b[1;36m150\u001b[0m\u001b[1;33m\u001b[0m\u001b[1;33m\u001b[0m\u001b[0m\n\u001b[1;32m----> 4\u001b[1;33m \u001b[0mincep\u001b[0m \u001b[1;33m=\u001b[0m \u001b[0mInceptionV3\u001b[0m\u001b[1;33m(\u001b[0m\u001b[0mweights\u001b[0m\u001b[1;33m=\u001b[0m\u001b[1;34m'imagenet'\u001b[0m\u001b[1;33m,\u001b[0m\u001b[0minclude_top\u001b[0m\u001b[1;33m=\u001b[0m\u001b[1;32mFalse\u001b[0m\u001b[1;33m,\u001b[0m\u001b[0minput_shape\u001b[0m\u001b[1;33m=\u001b[0m\u001b[1;33m(\u001b[0m\u001b[0mimage_size\u001b[0m\u001b[1;33m,\u001b[0m\u001b[0mimage_size\u001b[0m\u001b[1;33m,\u001b[0m\u001b[1;36m3\u001b[0m\u001b[1;33m)\u001b[0m\u001b[1;33m)\u001b[0m\u001b[1;33m\u001b[0m\u001b[1;33m\u001b[0m\u001b[0m\n\u001b[0m\u001b[0;32m      5\u001b[0m \u001b[1;32mfor\u001b[0m \u001b[0mlayers\u001b[0m \u001b[1;32min\u001b[0m \u001b[0mincep\u001b[0m\u001b[1;33m.\u001b[0m\u001b[0mlayers\u001b[0m\u001b[1;33m:\u001b[0m\u001b[1;33m\u001b[0m\u001b[1;33m\u001b[0m\u001b[0m\n\u001b[0;32m      6\u001b[0m     \u001b[0mlayers\u001b[0m\u001b[1;33m.\u001b[0m\u001b[0mtrainable\u001b[0m\u001b[1;33m\u001b[0m\u001b[1;33m\u001b[0m\u001b[0m\n",
      "\u001b[1;31mTypeError\u001b[0m: __call__() missing 1 required positional argument: 'inputs'"
     ]
    }
   ],
   "source": [
    "import time\n",
    "start_time = time.time()\n",
    "image_size = 150\n",
    "incep = InceptionV3(weights='imagenet',include_top=False,input_shape=(image_size,image_size,3))\n",
    "for layers in incep.layers:\n",
    "    layers.trainable \n",
    "incep_mod = tensorflow.keras.Sequential()\n",
    "incep_mod.add(incep)\n",
    "incep_mod.add(Flatten())\n",
    "incep_mod.add(Dense(3,activation='softmax'))\n",
    "incep_mod.summary()\n",
    "incep_mod.compile(optimizer=Adam(learning_rate=0.0001), loss='categorical_crossentropy', metrics=['accuracy'])\n",
    "history_incep_mod = incep_mod.fit(x=train_generator, validation_data = valid_generator,epochs=10,steps_per_epoch=len(train_generator)//32,\n",
    "                             validation_steps=len(valid_generator)//32)  #,callbacks = [callback]\n",
    "elapsed_time = (time.time() - start_time)"
   ]
  }
 ],
 "metadata": {
  "kernelspec": {
   "display_name": "Python 3",
   "language": "python",
   "name": "python3"
  },
  "language_info": {
   "codemirror_mode": {
    "name": "ipython",
    "version": 3
   },
   "file_extension": ".py",
   "mimetype": "text/x-python",
   "name": "python",
   "nbconvert_exporter": "python",
   "pygments_lexer": "ipython3",
   "version": "3.7.6"
  }
 },
 "nbformat": 4,
 "nbformat_minor": 4
}
