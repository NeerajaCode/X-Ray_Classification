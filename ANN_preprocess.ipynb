{
 "cells": [
  {
   "cell_type": "code",
   "execution_count": 4,
   "metadata": {},
   "outputs": [
    {
     "name": "stderr",
     "output_type": "stream",
     "text": [
      "Using TensorFlow backend.\n"
     ]
    }
   ],
   "source": [
    "import cv2\n",
    "import os\n",
    "from PIL import Image\n",
    "import keras\n",
    "os.environ['KERAS_BACKEND'] = 'tensorflow'"
   ]
  },
  {
   "cell_type": "code",
   "execution_count": 11,
   "metadata": {},
   "outputs": [],
   "source": [
    "\n",
    "SIZE = 64\n",
    "dataset = []\n",
    "label = []\n",
    "from PIL import Image\n",
    "\n",
    "# im1 = Image.open(r\"C:\\Users\\kunap\\Desktop\\ANN_Coursework\\X-rays\\train\\Pneumonia\\00003528_017.png\")\n",
    "# im1.save(r\"C:\\Users\\kunap\\Desktop\\ANN_Coursework\\X-rays\\train\\Pneumonia\\00003528_017.jpg\")\n",
    "\n",
    "# covid_data = os.listdir(train_directory + '\\Covid-19')"
   ]
  },
  {
   "cell_type": "code",
   "execution_count": 49,
   "metadata": {
    "scrolled": true
   },
   "outputs": [],
   "source": [
    "import os\n",
    "from PIL import Image\n",
    "import glob\n",
    "types = []\n",
    "\n",
    "train_directory = r\"C:\\Users\\kunap\\Desktop\\ANN_Coursework\\X-rays\\test\\Pneumonia\"\n",
    "for i in os.listdir(train_directory):\n",
    "    name, extension = os.path.splitext(i)\n",
    "    types.append(extension)\n",
    "    im1 = Image.open(os.path.join(train_directory,i))\n",
    "    rgb_im = im1.convert('RGB')\n",
    "    rgb_im.save(os.path.join(r\"C:\\Users\\kunap\\Desktop\\ANN_Coursework\\X-rays\\test\\test1\",\"Pneumonia\",name) + '.jpg')\n",
    "\n",
    "# print(set(types))"
   ]
  },
  {
   "cell_type": "code",
   "execution_count": null,
   "metadata": {},
   "outputs": [],
   "source": []
  },
  {
   "cell_type": "code",
   "execution_count": null,
   "metadata": {},
   "outputs": [],
   "source": [
    "from sklearn.model_selection import train_test_split\n",
    "from sklearn import metrics\n",
    "from sklearn.metrics import classification_report, confusion_matrix\n",
    "\n",
    "from tensorflow.keras import Sequential\n",
    "from tensorflow.keras.layers import Conv2D, Flatten, Dense, MaxPool2D\n",
    "from tensorflow.keras.optimizers import Adam"
   ]
  },
  {
   "cell_type": "code",
   "execution_count": null,
   "metadata": {},
   "outputs": [],
   "source": [
    "def vgg19_model(x_train,x_valid, epochs_count, image_size):\n",
    "    start_time = time.time()\n",
    "    vgg19_w = VGG19(weights='imagenet',include_top=False,input_shape=(image_size,image_size,3))\n",
    "    for layers in vgg19_w.layers:\n",
    "        layers.trainable = False\n",
    "\n",
    "    vgg19_mod = tensorflow.keras.Sequential()\n",
    "    vgg19_mod.add(vgg19_w)\n",
    "    vgg19_mod.add(Flatten())\n",
    "    vgg19_mod.add(Dense(3,activation='sigmoid'))\n",
    "    vgg19_mod.summary()\n",
    "    vgg19_mod.compile(optimizer=Adam(learning_rate=0.0001), loss='categorical_crossentropy', metrics=['accuracy'])\n",
    "    history_vgg19_mod = vgg19_mod.fit(x=x_train, validation_data = x_valid,epochs=epochs_count,steps_per_epoch=len(x_train)//32,\n",
    "                                 validation_steps=len(x_valid)//32)  #,callbacks = [callback]\n",
    "    elapsed_time = (time.time() - start_time)\n",
    "    print(\"Time taken for execution: \", elapsed_time)\n",
    "    return history_vgg19_mod, vgg19_mod"
   ]
  },
  {
   "cell_type": "code",
   "execution_count": null,
   "metadata": {},
   "outputs": [],
   "source": [
    "import time\n",
    "from tensorflow.keras.applications import  VGG19\n",
    "hist,model = vgg19_model(train_generator,valid_generator,10,150)"
   ]
  }
 ],
 "metadata": {
  "kernelspec": {
   "display_name": "Python 3",
   "language": "python",
   "name": "python3"
  },
  "language_info": {
   "codemirror_mode": {
    "name": "ipython",
    "version": 3
   },
   "file_extension": ".py",
   "mimetype": "text/x-python",
   "name": "python",
   "nbconvert_exporter": "python",
   "pygments_lexer": "ipython3",
   "version": "3.7.6"
  }
 },
 "nbformat": 4,
 "nbformat_minor": 4
}
